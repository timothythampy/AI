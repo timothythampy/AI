{
  "nbformat": 4,
  "nbformat_minor": 0,
  "metadata": {
    "colab": {
      "name": "CW_J056_04/07/2020.ipynb",
      "provenance": [],
      "collapsed_sections": [],
      "authorship_tag": "ABX9TyMZ2BRrjfc+8mx88cwYRWOq",
      "include_colab_link": true
    },
    "kernelspec": {
      "name": "python3",
      "display_name": "Python 3"
    }
  },
  "cells": [
    {
      "cell_type": "markdown",
      "metadata": {
        "id": "view-in-github",
        "colab_type": "text"
      },
      "source": [
        "<a href=\"https://colab.research.google.com/github/timothythampy/AI/blob/master/CW/CW_J056_04_07_2020.ipynb\" target=\"_parent\"><img src=\"https://colab.research.google.com/assets/colab-badge.svg\" alt=\"Open In Colab\"/></a>"
      ]
    },
    {
      "cell_type": "code",
      "metadata": {
        "id": "DWVADNwCMAM0",
        "colab_type": "code",
        "colab": {}
      },
      "source": [
        "#list\n",
        "a=[1,2,3,4,5,'human']\n",
        "e=[[1,2,3,4,5,'human'],[1,2,3,4,5],[3,4,5,'human']] #lists within list\n",
        "l=[[1,2,3,4,5,'human'],[1,2,3,4,5],[3,4,5,'human']] #lists within list\n",
        "m=[{1,2,3,4,5,'human'},{1,2,3,4,5},{3,4,5,'human'}] #sets within list\n",
        "\n",
        "\n",
        "#tuple\n",
        "b=(1,2,3,4,5,'human')\n",
        "i=((1,2,3,4,5,'human'),(1,2,3,4,5),(3,4,5,'human')) #tuples within tuple\n",
        "j=([1,2,3,4,5,'human'],[1,2,3,4,5],[3,4,5,'human']) #lists within tuple\n",
        "k=({1,2,3,4,5,'human'},{1,2,3,4,5},{3,4,5,'human'}) #sets within tuple\n",
        "\n",
        "\n",
        "#set\n",
        "c={1,2,3,4,5,'human'}\n",
        "f={(1,2,3,4,5,'human'),(1,2,3,4,5),(3,4,5,'human')}\n",
        "#g={{1,2,3,4,5,'human'},{1,2,3,4,5},{3,4,5,'human'}} #sets within set\n",
        "#h={[1,2,3,4,5,'human'],[1,2,3,4,5],[3,4,5,'human']} #lists within set\n",
        "\n",
        "#dictionary\n",
        "d={'list':[1,2,3,4,5,'human'],\n",
        "  'tuple':(1,2,3,4,5,'human'),\n",
        "  'set':{1,2,3,4,5,'human'}}"
      ],
      "execution_count": null,
      "outputs": []
    },
    {
      "cell_type": "code",
      "metadata": {
        "id": "RHxx-px-Pg3W",
        "colab_type": "code",
        "colab": {
          "base_uri": "https://localhost:8080/",
          "height": 34
        },
        "outputId": "b7972828-b36b-496c-c283-be5bd48936eb"
      },
      "source": [
        "1 in c"
      ],
      "execution_count": null,
      "outputs": [
        {
          "output_type": "execute_result",
          "data": {
            "text/plain": [
              "True"
            ]
          },
          "metadata": {
            "tags": []
          },
          "execution_count": 39
        }
      ]
    },
    {
      "cell_type": "markdown",
      "metadata": {
        "id": "t53t6t-FMcyb",
        "colab_type": "text"
      },
      "source": [
        "sets do not support indexing\n",
        "\n",
        "order within sets is hence irrelevant\n",
        "\n",
        "sets cannot have within themselves:\n",
        "1. sets\n",
        "2. lists\n",
        "\n",
        "however, tuples within sets are allowed\n",
        "\n",
        "set will only give distinct values, even if duplicates exist\n",
        "\n"
      ]
    }
  ]
}