{
  "nbformat": 4,
  "nbformat_minor": 0,
  "metadata": {
    "colab": {
      "name": "Untitled",
      "provenance": [],
      "collapsed_sections": [],
      "authorship_tag": "ABX9TyOldg7keFZp4XHTXVBdcFUO",
      "include_colab_link": true
    },
    "kernelspec": {
      "name": "python3",
      "display_name": "Python 3"
    }
  },
  "cells": [
    {
      "cell_type": "markdown",
      "metadata": {
        "id": "view-in-github",
        "colab_type": "text"
      },
      "source": [
        "<a href=\"https://colab.research.google.com/github/timothythampy/AI/blob/master/CW/CW_J056_01_08_2020.ipynb\" target=\"_parent\"><img src=\"https://colab.research.google.com/assets/colab-badge.svg\" alt=\"Open In Colab\"/></a>"
      ]
    },
    {
      "cell_type": "markdown",
      "metadata": {
        "id": "sHVxnOczDe60",
        "colab_type": "text"
      },
      "source": [
        "DYNAMIC PROGRAMMING"
      ]
    },
    {
      "cell_type": "markdown",
      "metadata": {
        "id": "0OgbSaDBDpsp",
        "colab_type": "text"
      },
      "source": [
        "Recursion - function calling itself during execution\n",
        "\n",
        "1+2+3+4\n",
        "1+2=3 sum(1,2)\n",
        "3+3=6 sum(sum(1,2),3)\n",
        "6+4=10 sum(sum(sum(1,2),3),4)\n",
        "\n",
        "Memoisation - memorandum (Latin) (To be remembered)\n",
        "\n",
        "Storing intermediate values, through various ways"
      ]
    },
    {
      "cell_type": "code",
      "metadata": {
        "id": "SDQTqztTFlzm",
        "colab_type": "code",
        "colab": {}
      },
      "source": [
        "def fact_rec (n):\n",
        "  if n>1:\n",
        "    r = n*fact_rec(n-1)\n",
        "  else:\n",
        "    r = 1\n",
        "  return r"
      ],
      "execution_count": null,
      "outputs": []
    },
    {
      "cell_type": "code",
      "metadata": {
        "id": "0r13DULmFwGo",
        "colab_type": "code",
        "colab": {
          "base_uri": "https://localhost:8080/",
          "height": 34
        },
        "outputId": "3c62bad6-9e65-411c-85bf-7ef9f818bab1"
      },
      "source": [
        "fact_rec(7)"
      ],
      "execution_count": null,
      "outputs": [
        {
          "output_type": "execute_result",
          "data": {
            "text/plain": [
              "5040"
            ]
          },
          "metadata": {
            "tags": []
          },
          "execution_count": 53
        }
      ]
    },
    {
      "cell_type": "code",
      "metadata": {
        "id": "0MsJkV1yF-2n",
        "colab_type": "code",
        "colab": {}
      },
      "source": [
        "def fact_loop (n):\n",
        "  r = 1\n",
        "  for i in range (1,n+1):\n",
        "    r *= i\n",
        "  return r\n"
      ],
      "execution_count": null,
      "outputs": []
    },
    {
      "cell_type": "code",
      "metadata": {
        "id": "266AxGcZGEP8",
        "colab_type": "code",
        "colab": {
          "base_uri": "https://localhost:8080/",
          "height": 34
        },
        "outputId": "e22d2d2e-21a4-4220-b6ec-b7953ab7df28"
      },
      "source": [
        "fact_loop(7)"
      ],
      "execution_count": null,
      "outputs": [
        {
          "output_type": "execute_result",
          "data": {
            "text/plain": [
              "5040"
            ]
          },
          "metadata": {
            "tags": []
          },
          "execution_count": 55
        }
      ]
    },
    {
      "cell_type": "code",
      "metadata": {
        "id": "RoFVIPH2IRuN",
        "colab_type": "code",
        "colab": {}
      },
      "source": [
        "def fibb (i,j,n):\n",
        "  if n>1:\n",
        "    print (j)\n",
        "    k = i+j\n",
        "    fibb (j,k,n-1)"
      ],
      "execution_count": null,
      "outputs": []
    },
    {
      "cell_type": "code",
      "metadata": {
        "id": "xIeVKwdaMsY3",
        "colab_type": "code",
        "colab": {}
      },
      "source": [
        "def fibo (n):\n",
        "  fib=[0,1]\n",
        "  for i in range (2,n+1):\n",
        "    fib.append(fib [i-1] + fib [i-2])\n",
        "    # fib[i] = fib [i-1] + fib [i-2]\n",
        "  return fib[n]"
      ],
      "execution_count": null,
      "outputs": []
    },
    {
      "cell_type": "code",
      "metadata": {
        "id": "io2jl9oJPzSz",
        "colab_type": "code",
        "colab": {
          "base_uri": "https://localhost:8080/",
          "height": 34
        },
        "outputId": "43f764b9-3fb5-4673-a3e4-380059278e44"
      },
      "source": [
        "fibo (7)"
      ],
      "execution_count": null,
      "outputs": [
        {
          "output_type": "execute_result",
          "data": {
            "text/plain": [
              "13"
            ]
          },
          "metadata": {
            "tags": []
          },
          "execution_count": 104
        }
      ]
    },
    {
      "cell_type": "code",
      "metadata": {
        "id": "6TpaDyO_RLhb",
        "colab_type": "code",
        "colab": {}
      },
      "source": [
        "def fibor (n):\n",
        "  #returns n+1th number\n",
        "  if n==0 or n==1:\n",
        "    return n\n",
        "  else:\n",
        "    return fibor(n-1)+fibor(n-2)"
      ],
      "execution_count": null,
      "outputs": []
    },
    {
      "cell_type": "code",
      "metadata": {
        "id": "Z8zlneYGRYo6",
        "colab_type": "code",
        "colab": {
          "base_uri": "https://localhost:8080/",
          "height": 34
        },
        "outputId": "2603ce8d-6df7-471b-e617-3e0ac9ed055f"
      },
      "source": [
        "fibor(7)"
      ],
      "execution_count": null,
      "outputs": [
        {
          "output_type": "execute_result",
          "data": {
            "text/plain": [
              "13"
            ]
          },
          "metadata": {
            "tags": []
          },
          "execution_count": 145
        }
      ]
    },
    {
      "cell_type": "code",
      "metadata": {
        "id": "OgPEqayISBT-",
        "colab_type": "code",
        "colab": {}
      },
      "source": [
        "l = [5,3,2,1,6,7,123,97,65,34,22,344,2245,122,45]"
      ],
      "execution_count": null,
      "outputs": []
    },
    {
      "cell_type": "code",
      "metadata": {
        "id": "U1LsNsz0Wox_",
        "colab_type": "code",
        "colab": {}
      },
      "source": [
        "l1 = list(l)"
      ],
      "execution_count": null,
      "outputs": []
    },
    {
      "cell_type": "code",
      "metadata": {
        "id": "2Ayw1-ubWwTd",
        "colab_type": "code",
        "colab": {
          "base_uri": "https://localhost:8080/",
          "height": 34
        },
        "outputId": "45f0e91a-3e85-4221-e28f-2eeeae96e9da"
      },
      "source": [
        "print(l1)"
      ],
      "execution_count": null,
      "outputs": [
        {
          "output_type": "stream",
          "text": [
            "[5, 3, 2, 1, 6, 7, 123, 97, 65, 34, 22, 344, 2245, 122, 45]\n"
          ],
          "name": "stdout"
        }
      ]
    },
    {
      "cell_type": "code",
      "metadata": {
        "id": "gOdpszlyX7S3",
        "colab_type": "code",
        "colab": {}
      },
      "source": [
        "#sum of n numbers\n",
        "def summ (n):\n",
        "  if n>1:\n",
        "    r = n + summ(n-1)\n",
        "  else:\n",
        "    r = 1\n",
        "  return r"
      ],
      "execution_count": null,
      "outputs": []
    },
    {
      "cell_type": "code",
      "metadata": {
        "id": "TkBgnaO9YKd-",
        "colab_type": "code",
        "colab": {
          "base_uri": "https://localhost:8080/",
          "height": 34
        },
        "outputId": "43be030b-8dba-4e1a-9635-1e1a143db6f4"
      },
      "source": [
        "summ(100)"
      ],
      "execution_count": null,
      "outputs": [
        {
          "output_type": "execute_result",
          "data": {
            "text/plain": [
              "5050"
            ]
          },
          "metadata": {
            "tags": []
          },
          "execution_count": 173
        }
      ]
    },
    {
      "cell_type": "markdown",
      "metadata": {
        "id": "MyIeSNOtXW74",
        "colab_type": "text"
      },
      "source": [
        "Tractable - PTIME (Polynomial Time Solvable) is in Polynomial Time\n",
        "\n",
        "Polynomial -  expression where each term is n^k where k can be any whole number\n",
        "\n",
        "Degree of polynomial -  highest power of the variable within the expression\n",
        "\n",
        "Polynomial Time - Runtime of the code or solution should be a polynomial of degree k where k is a constant, and since it is time, n cannot be negative.\n",
        "\n",
        "n: input space or dimension\n",
        "eg O(n^4)\n",
        "n=1 => 1^4\n",
        "n=2 => 2^4\n",
        "n=3 => 3^4\n",
        "n=4 => 4^4 ....\n",
        "\n",
        "O(n!) = n*n-1*n-2*-3...3*2*1\n",
        "-> degree n-1\n",
        "-> since degree changes with n, it is Non-Polynomial Time (NP)"
      ]
    },
    {
      "cell_type": "markdown",
      "metadata": {
        "id": "7uOKus7TdYTQ",
        "colab_type": "text"
      },
      "source": [
        "HOMEWORK \n",
        "\n",
        "Solve with dynamic programming:\n",
        "\n",
        "Practical : \n",
        "\n",
        "https://www.hackerrank.com/challenges/validating-postalcode/problem\n",
        "\n",
        " \n",
        "\n",
        "https://www.hackerrank.com/challenges/coin-change/problem\n",
        "\n",
        " \n",
        "\n",
        "https://www.hackerrank.com/challenges/sherlock-and-cost/problem\n",
        "\n",
        " \n",
        "\n",
        "Complete atleast 1 problem in lab , others are for HW\n",
        "\n",
        " \n",
        "\n",
        "HW Addon:\n",
        "\n",
        "1) Find 1 NP Complete and 1 NP hard Problems with their Solution, Prepare a power point presentation on these problems , their solution strategy and details.\n",
        "\n",
        "(Can do as a team of max 2 people)\n",
        "\n",
        "KARTIKAY LADDHA - 70091018026 Create a sheet with the group names and the problems they are presenting to avoid overlap between any 2 groups\n",
        "\n",
        " \n",
        "\n",
        "2) Read https://www.bigocheatsheet.com/\n"
      ]
    }
  ]
}