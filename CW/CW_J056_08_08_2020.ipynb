{
  "nbformat": 4,
  "nbformat_minor": 0,
  "metadata": {
    "colab": {
      "name": "CW_J056_08_08_2020.ipynb",
      "provenance": [],
      "authorship_tag": "ABX9TyNXnm4t/H5Antn0p2N0qHH9",
      "include_colab_link": true
    },
    "kernelspec": {
      "name": "python3",
      "display_name": "Python 3"
    }
  },
  "cells": [
    {
      "cell_type": "markdown",
      "metadata": {
        "id": "view-in-github",
        "colab_type": "text"
      },
      "source": [
        "<a href=\"https://colab.research.google.com/github/timothythampy/AI/blob/master/CW/CW_J056_08_08_2020.ipynb\" target=\"_parent\"><img src=\"https://colab.research.google.com/assets/colab-badge.svg\" alt=\"Open In Colab\"/></a>"
      ]
    },
    {
      "cell_type": "code",
      "metadata": {
        "id": "7fzhFoWpDSVq",
        "colab_type": "code",
        "colab": {}
      },
      "source": [
        "import math\n",
        "import timeit"
      ],
      "execution_count": null,
      "outputs": []
    },
    {
      "cell_type": "code",
      "metadata": {
        "id": "NT36hwYqGP_F",
        "colab_type": "code",
        "colab": {}
      },
      "source": [
        "def fact_loop (n):\n",
        "  r = 1\n",
        "  for i in range (1,n+1):\n",
        "    r *= i\n",
        "  return r"
      ],
      "execution_count": null,
      "outputs": []
    },
    {
      "cell_type": "code",
      "metadata": {
        "id": "U4pp0a-3I2Yu",
        "colab_type": "code",
        "colab": {}
      },
      "source": [
        "def sum (a,b):\n",
        "  return a+b"
      ],
      "execution_count": null,
      "outputs": []
    },
    {
      "cell_type": "code",
      "metadata": {
        "id": "ERsJaDX_I7dn",
        "colab_type": "code",
        "colab": {}
      },
      "source": [
        "sum(2,3)"
      ],
      "execution_count": null,
      "outputs": []
    },
    {
      "cell_type": "code",
      "metadata": {
        "id": "GfnfjGrNI9Qf",
        "colab_type": "code",
        "colab": {}
      },
      "source": [
        "%timeit(sum(100,30))"
      ],
      "execution_count": null,
      "outputs": []
    },
    {
      "cell_type": "code",
      "metadata": {
        "id": "p9N7g3RB5nbd",
        "colab_type": "code",
        "colab": {}
      },
      "source": [
        "%timeit(fact(3))"
      ],
      "execution_count": null,
      "outputs": []
    },
    {
      "cell_type": "code",
      "metadata": {
        "id": "A_WYs0Ed5rO3",
        "colab_type": "code",
        "colab": {}
      },
      "source": [
        "%timeit(fact(30))"
      ],
      "execution_count": null,
      "outputs": []
    },
    {
      "cell_type": "code",
      "metadata": {
        "id": "im7crvfh5uQv",
        "colab_type": "code",
        "colab": {}
      },
      "source": [
        "%timeit(fact(300))"
      ],
      "execution_count": null,
      "outputs": []
    }
  ]
}