{
  "nbformat": 4,
  "nbformat_minor": 0,
  "metadata": {
    "colab": {
      "name": "HW_J056_11_07_2020.ipynb",
      "provenance": [],
      "authorship_tag": "ABX9TyPGDIK08F2Zhpr3yerFapP2",
      "include_colab_link": true
    },
    "kernelspec": {
      "name": "python3",
      "display_name": "Python 3"
    }
  },
  "cells": [
    {
      "cell_type": "markdown",
      "metadata": {
        "id": "view-in-github",
        "colab_type": "text"
      },
      "source": [
        "<a href=\"https://colab.research.google.com/github/timothythampy/AI/blob/master/HW/HW_J056_11_07_2020.ipynb\" target=\"_parent\"><img src=\"https://colab.research.google.com/assets/colab-badge.svg\" alt=\"Open In Colab\"/></a>"
      ]
    },
    {
      "cell_type": "markdown",
      "metadata": {
        "id": "BL33KWgFPh6r",
        "colab_type": "text"
      },
      "source": [
        "# Create a custom class DataRead to read csv file using pandas\n",
        "# Create a custom function RowSelect within the class to select any 2 rows of the the the dataframe\n",
        "# Create a sub class of DataRead1 as DataRead2 that has function for correlation plots (using any lib for correlation plot)\n",
        "# Within DataRead2 also create a function to override the custom function of DataRead1 RowSelect to select 3 rows"
      ]
    },
    {
      "cell_type": "code",
      "metadata": {
        "id": "GTDwg2C1PoNA",
        "colab_type": "code",
        "colab": {}
      },
      "source": [
        "import pandas as pd\n",
        "import seaborn"
      ],
      "execution_count": 13,
      "outputs": []
    },
    {
      "cell_type": "code",
      "metadata": {
        "id": "MUHvloMmQLVb",
        "colab_type": "code",
        "colab": {}
      },
      "source": [
        "class DataRead:\n",
        "  def __init__ (self,filename):\n",
        "    self.filename = filename\n",
        "    file = pd.read_csv(filename)\n",
        "  def rowselect (self,a,b):\n",
        "   file = pd.read_csv(self.filename)\n",
        "   print(file.loc[a]) \n",
        "   print(file.loc[b])"
      ],
      "execution_count": 19,
      "outputs": []
    },
    {
      "cell_type": "code",
      "metadata": {
        "id": "y3f59-4ca2Nh",
        "colab_type": "code",
        "colab": {}
      },
      "source": [
        "class DataRead2 (DataRead):\n",
        "  def corr_plot (self):\n",
        "    file = pd.read_csv(self.filename)\n",
        "    seaborn.heatmap(file.corr(), cmap = 'coolwarm')\n",
        "  def rowselect (self,a,b,c):\n",
        "    file = pd.read_csv(self.filename)\n",
        "    print(file.loc[a]) \n",
        "    print(file.loc[b])\n",
        "    print(file.loc[c])"
      ],
      "execution_count": 29,
      "outputs": []
    },
    {
      "cell_type": "code",
      "metadata": {
        "id": "O-q8v1qhkYVs",
        "colab_type": "code",
        "colab": {}
      },
      "source": [
        "eg1 = DataRead ('/content/sample_data/california_housing_train.csv')"
      ],
      "execution_count": 38,
      "outputs": []
    },
    {
      "cell_type": "code",
      "metadata": {
        "id": "DTFWFC15kepZ",
        "colab_type": "code",
        "colab": {
          "base_uri": "https://localhost:8080/",
          "height": 391
        },
        "outputId": "18d151d7-cd2e-4a1d-a38e-8938593057e2"
      },
      "source": [
        "x = int(input (\"Enter row to be selected (1):\"))\n",
        "y = int(input (\"Enter row to be selected (2):\"))\n",
        "eg1.rowselect(x,y)"
      ],
      "execution_count": 43,
      "outputs": [
        {
          "output_type": "stream",
          "text": [
            "Enter row to be selected (1):4\n",
            "Enter row to be selected (2):7\n",
            "longitude              -114.570\n",
            "latitude                 33.570\n",
            "housing_median_age       20.000\n",
            "total_rooms            1454.000\n",
            "total_bedrooms          326.000\n",
            "population              624.000\n",
            "households              262.000\n",
            "median_income             1.925\n",
            "median_house_value    65500.000\n",
            "Name: 4, dtype: float64\n",
            "longitude              -114.5900\n",
            "latitude                 34.8300\n",
            "housing_median_age       41.0000\n",
            "total_rooms             812.0000\n",
            "total_bedrooms          168.0000\n",
            "population              375.0000\n",
            "households              158.0000\n",
            "median_income             1.7083\n",
            "median_house_value    48500.0000\n",
            "Name: 7, dtype: float64\n"
          ],
          "name": "stdout"
        }
      ]
    },
    {
      "cell_type": "code",
      "metadata": {
        "id": "z5BudDl9kv-o",
        "colab_type": "code",
        "colab": {}
      },
      "source": [
        "eg2 = DataRead2 ('/content/sample_data/california_housing_train.csv')"
      ],
      "execution_count": 44,
      "outputs": []
    },
    {
      "cell_type": "code",
      "metadata": {
        "id": "ubXjYsK2lIbn",
        "colab_type": "code",
        "colab": {
          "base_uri": "https://localhost:8080/",
          "height": 365
        },
        "outputId": "9bf5ace1-e514-41ea-aa47-12d67c066420"
      },
      "source": [
        "eg2.corr_plot()"
      ],
      "execution_count": 45,
      "outputs": [
        {
          "output_type": "display_data",
          "data": {
            "image/png": "[encoded data removed]",
            "text/plain": [
              "<Figure size 432x288 with 2 Axes>"
            ]
          },
          "metadata": {
            "tags": [],
            "needs_background": "light"
          }
        }
      ]
    },
    {
      "cell_type": "code",
      "metadata": {
        "id": "eheGMMoalKsn",
        "colab_type": "code",
        "colab": {
          "base_uri": "https://localhost:8080/",
          "height": 578
        },
        "outputId": "96723bc3-940f-4de7-cee2-d27eae6a14cd"
      },
      "source": [
        "x = int(input (\"Enter row to be selected (1):\"))\n",
        "y = int(input (\"Enter row to be selected (2):\"))\n",
        "z = int(input (\"Enter row to be selected (3):\"))\n",
        "eg2.rowselect(x,y,z)"
      ],
      "execution_count": 47,
      "outputs": [
        {
          "output_type": "stream",
          "text": [
            "Enter row to be selected (1):1\n",
            "Enter row to be selected (2):2\n",
            "Enter row to be selected (3):3\n",
            "longitude              -114.47\n",
            "latitude                 34.40\n",
            "housing_median_age       19.00\n",
            "total_rooms            7650.00\n",
            "total_bedrooms         1901.00\n",
            "population             1129.00\n",
            "households              463.00\n",
            "median_income             1.82\n",
            "median_house_value    80100.00\n",
            "Name: 1, dtype: float64\n",
            "longitude              -114.5600\n",
            "latitude                 33.6900\n",
            "housing_median_age       17.0000\n",
            "total_rooms             720.0000\n",
            "total_bedrooms          174.0000\n",
            "population              333.0000\n",
            "households              117.0000\n",
            "median_income             1.6509\n",
            "median_house_value    85700.0000\n",
            "Name: 2, dtype: float64\n",
            "longitude              -114.5700\n",
            "latitude                 33.6400\n",
            "housing_median_age       14.0000\n",
            "total_rooms            1501.0000\n",
            "total_bedrooms          337.0000\n",
            "population              515.0000\n",
            "households              226.0000\n",
            "median_income             3.1917\n",
            "median_house_value    73400.0000\n",
            "Name: 3, dtype: float64\n"
          ],
          "name": "stdout"
        }
      ]
    }
  ]
}