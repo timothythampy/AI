{
  "nbformat": 4,
  "nbformat_minor": 0,
  "metadata": {
    "colab": {
      "name": "HW_J056_08_08_2020.ipynb",
      "provenance": [],
      "authorship_tag": "ABX9TyOX6YhzmzjC7QH2s37Kq/2B",
      "include_colab_link": true
    },
    "kernelspec": {
      "name": "python3",
      "display_name": "Python 3"
    }
  },
  "cells": [
    {
      "cell_type": "markdown",
      "metadata": {
        "id": "view-in-github",
        "colab_type": "text"
      },
      "source": [
        "<a href=\"https://colab.research.google.com/github/timothythampy/AI/blob/master/HW/HW_J056_08_08_2020.ipynb\" target=\"_parent\"><img src=\"https://colab.research.google.com/assets/colab-badge.svg\" alt=\"Open In Colab\"/></a>"
      ]
    },
    {
      "cell_type": "code",
      "metadata": {
        "id": "q0YZY1BczM9w",
        "colab_type": "code",
        "colab": {
          "base_uri": "https://localhost:8080/",
          "height": 170
        },
        "outputId": "71e37de3-e1ad-4b9b-a265-e39c661972f9"
      },
      "source": [
        "def ks (wta,ind,s,v): #sta weight allowed; ind index number; s size list; v value list\n",
        "  if (wta<=0 or ind<=0):\n",
        "    return 0\n",
        "  elif (s[ind-1]>wta):\n",
        "    return ks (wta,ind-1,s,v)\n",
        "  else:\n",
        "    return max(v[ind-1]+ks(wta-s[ind-1],ind-1,s,v),ks(wta,ind-1,s,v))\n",
        "\n",
        "data = input ()\n",
        "data = data.splitlines()\n",
        "T=int(input())\n",
        "temp = input()\n",
        "temp = list(map(int, temp.split()))\n",
        "n=temp[0]\n",
        "m=temp[1]\n",
        "s = input()\n",
        "s = list(map(int, s.split()))\n",
        "v = input()\n",
        "v = list(map(int, v.split()))\n",
        "\n",
        "for i in range(n-1):\n",
        "  temp = input()\n",
        "\n",
        "\n",
        "a = ks (m,n,s,v)\n",
        "a\n"
      ],
      "execution_count": 93,
      "outputs": [
        {
          "output_type": "stream",
          "text": [
            "1\n",
            "5 3\n",
            "1 1 1 1 1\n",
            "3 5 2 2 3\n",
            "1 2\n",
            "1 3\n",
            "2 4\n",
            "2 5\n"
          ],
          "name": "stdout"
        },
        {
          "output_type": "execute_result",
          "data": {
            "text/plain": [
              "11"
            ]
          },
          "metadata": {
            "tags": []
          },
          "execution_count": 93
        }
      ]
    }
  ]
}