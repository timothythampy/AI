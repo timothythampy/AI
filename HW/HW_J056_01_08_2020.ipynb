{
  "nbformat": 4,
  "nbformat_minor": 0,
  "metadata": {
    "colab": {
      "name": "HW_J056_01_08_2020.ipynb",
      "provenance": [],
      "authorship_tag": "ABX9TyNBqexDFiBc9VWhVcHjganI",
      "include_colab_link": true
    },
    "kernelspec": {
      "name": "python3",
      "display_name": "Python 3"
    }
  },
  "cells": [
    {
      "cell_type": "markdown",
      "metadata": {
        "id": "view-in-github",
        "colab_type": "text"
      },
      "source": [
        "<a href=\"https://colab.research.google.com/github/timothythampy/AI/blob/master/HW/HW_J056_01_08_2020.ipynb\" target=\"_parent\"><img src=\"https://colab.research.google.com/assets/colab-badge.svg\" alt=\"Open In Colab\"/></a>"
      ]
    },
    {
      "cell_type": "code",
      "metadata": {
        "id": "nKQLdqZB8ETX",
        "colab_type": "code",
        "colab": {}
      },
      "source": [
        "#!/bin/python3\n",
        "\n",
        "import math\n",
        "import os\n",
        "import random\n",
        "import re\n",
        "import sys\n",
        "\n",
        "#\n",
        "# Complete the 'getWays' function below.\n",
        "#\n",
        "# The function is expected to return a LONG_INTEGER.\n",
        "# The function accepts following parameters:\n",
        "#  1. INTEGER n\n",
        "#  2. LONG_INTEGER_ARRAY c\n",
        "#\n",
        "\n",
        "def getWays(n, c):\n",
        "    w = [0] * (n + 1); \n",
        "    w[0] = 1; \n",
        "    for i in range(len(c)): \n",
        "        for j in range(len(w)): \n",
        "            if (c[i] <= j): \n",
        "                w[j] += w[(int)(j - c[i])]; \n",
        "    return w[n]; \n",
        "\n",
        "if __name__ == '__main__':\n",
        "    fptr = open(os.environ['OUTPUT_PATH'], 'w')\n",
        "\n",
        "    first_multiple_input = input().rstrip().split()\n",
        "\n",
        "    n = int(first_multiple_input[0])\n",
        "\n",
        "    m = int(first_multiple_input[1])\n",
        "\n",
        "    c = list(map(int, input().rstrip().split()))\n",
        "\n",
        "    # Print the number of ways of making change for 'n' units using coins having the values given by 'c'\n",
        "\n",
        "    ways = getWays(n, c)\n",
        "\n",
        "    fptr.write(str(ways) + '\\n')\n",
        "\n",
        "    fptr.close()"
      ],
      "execution_count": null,
      "outputs": []
    },
    {
      "cell_type": "code",
      "metadata": {
        "id": "odjSdem7AidU",
        "colab_type": "code",
        "colab": {}
      },
      "source": [
        "regex_integer_in_range = r\"^[1-9][\\d]{5}$\"\t# Do not delete 'r'.\n",
        "regex_alternating_repetitive_digit_pair = r\"(\\d)(?=\\d\\1)\"\t# Do not delete 'r'.\n"
      ],
      "execution_count": null,
      "outputs": []
    }
  ]
}